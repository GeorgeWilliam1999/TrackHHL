{
 "cells": [
  {
   "cell_type": "markdown",
   "metadata": {},
   "source": [
    "# Basic imports"
   ]
  },
  {
   "cell_type": "code",
   "execution_count": 1,
   "metadata": {},
   "outputs": [],
   "source": [
    "import sys\n",
    "sys.path.append(\"..\")\n",
    "import trackhhl.toy.simple_generator as toy\n",
    "import trackhhl.hamiltonians.simple_hamiltonian as hamiltonian\n",
    "import numpy as np"
   ]
  },
  {
   "cell_type": "markdown",
   "metadata": {},
   "source": [
    "# Detector\n",
    "\n",
    "We are going to define a simple detector geometry of 3 parallel infinitely large modules, placed along the $z$-axis"
   ]
  },
  {
   "cell_type": "code",
   "execution_count": 2,
   "metadata": {},
   "outputs": [
    {
     "data": {
      "text/plain": [
       "SimpleDetectorGeometry(module_id=[0, 1, 2], lx=[inf, inf, inf], ly=[inf, inf, inf], z=[1.0, 2.0, 3.0])"
      ]
     },
     "execution_count": 2,
     "metadata": {},
     "output_type": "execute_result"
    }
   ],
   "source": [
    "N_MODULES = 3\n",
    "LX = float(\"+inf\")\n",
    "LY = float(\"+inf\")\n",
    "Z_SPACING = 1.0\n",
    "\n",
    "detector = toy.SimpleDetectorGeometry(\n",
    "    module_id=list(range(N_MODULES)),\n",
    "    lx=[LX]*N_MODULES,\n",
    "    ly=[LY]*N_MODULES,\n",
    "    z=[i+Z_SPACING for i in range(N_MODULES)]\n",
    ")\n",
    "\n",
    "detector"
   ]
  },
  {
   "cell_type": "markdown",
   "metadata": {},
   "source": [
    "# Particle generator\n",
    "\n",
    "Now we define a simple particle generator that will fire particles flying in straight lines through the our detector."
   ]
  },
  {
   "cell_type": "code",
   "execution_count": 3,
   "metadata": {},
   "outputs": [],
   "source": [
    "generator = toy.SimpleGenerator(\n",
    "    detector_geometry=detector,\n",
    "    theta_max=np.pi/6\n",
    ")"
   ]
  },
  {
   "cell_type": "markdown",
   "metadata": {},
   "source": [
    "Let's generate a simple event"
   ]
  },
  {
   "cell_type": "code",
   "execution_count": 4,
   "metadata": {},
   "outputs": [
    {
     "data": {
      "text/plain": [
       "[Hit(hit_id=0, x=np.float64(-0.4614615823703159), y=np.float64(-0.34023605252461026), z=1.0, module_id=0, track_id=0),\n",
       " Hit(hit_id=3, x=np.float64(0.22959853549335138), y=np.float64(0.07388867215047602), z=1.0, module_id=0, track_id=1),\n",
       " Hit(hit_id=6, x=np.float64(0.16531675682551708), y=np.float64(0.15659948343374777), z=1.0, module_id=0, track_id=2),\n",
       " Hit(hit_id=1, x=np.float64(-0.9229231647406319), y=np.float64(-0.6804721050492205), z=2.0, module_id=1, track_id=0),\n",
       " Hit(hit_id=4, x=np.float64(0.45919707098670276), y=np.float64(0.14777734430095205), z=2.0, module_id=1, track_id=1),\n",
       " Hit(hit_id=7, x=np.float64(0.33063351365103416), y=np.float64(0.31319896686749554), z=2.0, module_id=1, track_id=2),\n",
       " Hit(hit_id=2, x=np.float64(-1.3843847471109478), y=np.float64(-1.0207081575738308), z=3.0, module_id=2, track_id=0),\n",
       " Hit(hit_id=5, x=np.float64(0.6887956064800541), y=np.float64(0.22166601645142808), z=3.0, module_id=2, track_id=1),\n",
       " Hit(hit_id=8, x=np.float64(0.49595027047655116), y=np.float64(0.4697984503012433), z=3.0, module_id=2, track_id=2)]"
      ]
     },
     "execution_count": 4,
     "metadata": {},
     "output_type": "execute_result"
    }
   ],
   "source": [
    "N_PARTICLES = 3\n",
    "event = generator.generate_event(N_PARTICLES)\n",
    "event.hits"
   ]
  },
  {
   "cell_type": "markdown",
   "metadata": {},
   "source": [
    "# Hamiltonian initialization\n",
    "\n",
    "Let's initialize the Hamiltonian."
   ]
  },
  {
   "cell_type": "code",
   "execution_count": 5,
   "metadata": {},
   "outputs": [],
   "source": [
    "ham = hamiltonian.SimpleHamiltonian(\n",
    "    epsilon=1e-7,\n",
    "    gamma=2.0,\n",
    "    delta=1.0\n",
    ")"
   ]
  },
  {
   "cell_type": "code",
   "execution_count": 6,
   "metadata": {},
   "outputs": [
    {
     "data": {
      "text/plain": [
       "(<18x18 sparse matrix of type '<class 'numpy.float64'>'\n",
       " \twith 24 stored elements in Compressed Sparse Column format>,\n",
       " array([1., 1., 1., 1., 1., 1., 1., 1., 1., 1., 1., 1., 1., 1., 1., 1., 1.,\n",
       "        1.]))"
      ]
     },
     "execution_count": 6,
     "metadata": {},
     "output_type": "execute_result"
    }
   ],
   "source": [
    "ham.construct_hamiltonian(event=event)"
   ]
  },
  {
   "cell_type": "markdown",
   "metadata": {},
   "source": [
    "# Classical solver\n",
    "\n",
    "Let's solve this event using a classical linear solver (the Conjugate Gradient Descent method)"
   ]
  },
  {
   "cell_type": "code",
   "execution_count": 7,
   "metadata": {},
   "outputs": [
    {
     "data": {
      "text/plain": [
       "array([0.5       , 0.33333333, 0.33333333, 0.33333333, 0.5       ,\n",
       "       0.33333333, 0.33333333, 0.33333333, 0.5       , 0.5       ,\n",
       "       0.33333333, 0.33333333, 0.33333333, 0.5       , 0.33333333,\n",
       "       0.33333333, 0.33333333, 0.5       ])"
      ]
     },
     "execution_count": 7,
     "metadata": {},
     "output_type": "execute_result"
    }
   ],
   "source": [
    "classical_solution = ham.solve_classicaly()\n",
    "classical_solution"
   ]
  },
  {
   "cell_type": "markdown",
   "metadata": {},
   "source": [
    "Let's apply a threshold $T = 0.45$"
   ]
  },
  {
   "cell_type": "code",
   "execution_count": 8,
   "metadata": {},
   "outputs": [],
   "source": [
    "T = .45"
   ]
  },
  {
   "cell_type": "code",
   "execution_count": 9,
   "metadata": {},
   "outputs": [
    {
     "data": {
      "text/plain": [
       "array([1, 0, 0, 0, 1, 0, 0, 0, 1, 1, 0, 0, 0, 1, 0, 0, 0, 1])"
      ]
     },
     "execution_count": 9,
     "metadata": {},
     "output_type": "execute_result"
    }
   ],
   "source": [
    "discretized_classical_solution = (classical_solution > T).astype(int)\n",
    "discretized_classical_solution"
   ]
  },
  {
   "cell_type": "markdown",
   "metadata": {},
   "source": [
    "# HHL solver\n",
    "\n",
    "Now let's solve the same event using the HHL linear solver provided by Qiskit."
   ]
  },
  {
   "cell_type": "code",
   "execution_count": 10,
   "metadata": {},
   "outputs": [
    {
     "ename": "AttributeError",
     "evalue": "'NumPyMatrix' object has no attribute 'power1'",
     "output_type": "error",
     "traceback": [
      "\u001b[0;31m---------------------------------------------------------------------------\u001b[0m",
      "\u001b[0;31mAttributeError\u001b[0m                            Traceback (most recent call last)",
      "Cell \u001b[0;32mIn[10], line 1\u001b[0m\n\u001b[0;32m----> 1\u001b[0m hhl_solution \u001b[38;5;241m=\u001b[39m \u001b[43mham\u001b[49m\u001b[38;5;241;43m.\u001b[39;49m\u001b[43msolve_hhl\u001b[49m\u001b[43m(\u001b[49m\u001b[43m)\u001b[49m\n\u001b[1;32m      2\u001b[0m hhl_solution\n",
      "File \u001b[0;32m~/Documents/GitHub/TrackHHL/trackhhl/hamiltonians/simple_hamiltonian.py:102\u001b[0m, in \u001b[0;36mSimpleHamiltonian.solve_hhl\u001b[0;34m(self, epsilon, circuit_only)\u001b[0m\n\u001b[1;32m     99\u001b[0m     b_circuit\u001b[38;5;241m.\u001b[39mh(i)\n\u001b[1;32m    101\u001b[0m hhl_solver \u001b[38;5;241m=\u001b[39m HHL(epsilon\u001b[38;5;241m=\u001b[39mepsilon)\n\u001b[0;32m--> 102\u001b[0m circuit \u001b[38;5;241m=\u001b[39m \u001b[43mhhl_solver\u001b[49m\u001b[38;5;241;43m.\u001b[39;49m\u001b[43mconstruct_circuit\u001b[49m\u001b[43m(\u001b[49m\u001b[43mA\u001b[49m\u001b[43m,\u001b[49m\u001b[43m \u001b[49m\u001b[43mb_circuit\u001b[49m\u001b[43m,\u001b[49m\u001b[43m \u001b[49m\u001b[43mneg_vals\u001b[49m\u001b[38;5;241;43m=\u001b[39;49m\u001b[38;5;28;43;01mFalse\u001b[39;49;00m\u001b[43m)\u001b[49m\n\u001b[1;32m    103\u001b[0m \u001b[38;5;28;01mif\u001b[39;00m circuit_only: \u001b[38;5;28;01mreturn\u001b[39;00m circuit\n\u001b[1;32m    105\u001b[0m \u001b[38;5;66;03m# Get the final state vector\u001b[39;00m\n",
      "File \u001b[0;32m~/anaconda3/envs/Q_env/lib/python3.10/site-packages/linear_solvers/hhl.py:472\u001b[0m, in \u001b[0;36mHHL.construct_circuit\u001b[0;34m(self, matrix, vector, neg_vals)\u001b[0m\n\u001b[1;32m    470\u001b[0m qc\u001b[38;5;241m.\u001b[39mappend(vector_circuit, qb[:])\n\u001b[1;32m    471\u001b[0m \u001b[38;5;66;03m# QPE\u001b[39;00m\n\u001b[0;32m--> 472\u001b[0m matrix_circuit \u001b[38;5;241m=\u001b[39m \u001b[43mmatrix_circuit\u001b[49m\u001b[38;5;241;43m.\u001b[39;49m\u001b[43mpower1\u001b[49m(opt \u001b[38;5;241m=\u001b[39m matrix_circuit)\n\u001b[1;32m    474\u001b[0m phase_estimation \u001b[38;5;241m=\u001b[39m PhaseEstimation(nl, matrix_circuit)\n\u001b[1;32m    475\u001b[0m \u001b[38;5;28;01mif\u001b[39;00m na \u001b[38;5;241m>\u001b[39m \u001b[38;5;241m0\u001b[39m:\n",
      "\u001b[0;31mAttributeError\u001b[0m: 'NumPyMatrix' object has no attribute 'power1'"
     ]
    }
   ],
   "source": [
    "hhl_solution = ham.solve_hhl()\n",
    "hhl_solution"
   ]
  },
  {
   "cell_type": "markdown",
   "metadata": {},
   "source": [
    "Let's discretize using the same threshold $T=0.45$"
   ]
  },
  {
   "cell_type": "code",
   "execution_count": null,
   "metadata": {},
   "outputs": [
    {
     "data": {
      "text/plain": [
       "array([1, 0, 0, 0, 1, 0, 0, 0, 1, 1, 0, 0, 0, 1, 0, 0, 0, 1])"
      ]
     },
     "execution_count": 46,
     "metadata": {},
     "output_type": "execute_result"
    }
   ],
   "source": [
    "discretized_hhl_solution = (hhl_solution > .45).astype(int)\n",
    "discretized_classical_solution"
   ]
  },
  {
   "cell_type": "markdown",
   "metadata": {},
   "source": [
    "# Comparison\n",
    "\n",
    "Let's compare the two solutions with the Monte Carlo truth"
   ]
  },
  {
   "cell_type": "code",
   "execution_count": null,
   "metadata": {},
   "outputs": [
    {
     "name": "stdout",
     "output_type": "stream",
     "text": [
      "Classical solution: \t [1 0 0 0 1 0 0 0 1 1 0 0 0 1 0 0 0 1]\n",
      "HHL solution: \t\t [1 0 0 0 1 0 0 0 1 1 0 0 0 1 0 0 0 1]\n",
      "\n",
      "MC truth: \t\t [1 0 0 0 1 0 0 0 1 1 0 0 0 1 0 0 0 1]\n"
     ]
    }
   ],
   "source": [
    "print(\"Classical solution: \\t\", discretized_classical_solution)\n",
    "print(\"HHL solution: \\t\\t\", discretized_classical_solution)\n",
    "print()\n",
    "MC_truth = [ 1 if seg.hit_from.track_id == seg.hit_to.track_id else 0 for seg in ham.segments]\n",
    "print(\"MC truth: \\t\\t\",np.array(MC_truth))"
   ]
  },
  {
   "cell_type": "code",
   "execution_count": null,
   "metadata": {},
   "outputs": [],
   "source": []
  }
 ],
 "metadata": {
  "kernelspec": {
   "display_name": "trackhhl-oT22-ukJ-py3.11",
   "language": "python",
   "name": "python3"
  },
  "language_info": {
   "codemirror_mode": {
    "name": "ipython",
    "version": 3
   },
   "file_extension": ".py",
   "mimetype": "text/x-python",
   "name": "python",
   "nbconvert_exporter": "python",
   "pygments_lexer": "ipython3",
   "version": "3.10.6"
  }
 },
 "nbformat": 4,
 "nbformat_minor": 2
}
