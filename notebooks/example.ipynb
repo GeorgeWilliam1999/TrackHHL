{
 "cells": [
  {
   "cell_type": "markdown",
   "metadata": {},
   "source": [
    "# Basic imports"
   ]
  },
  {
   "cell_type": "code",
   "execution_count": 7,
   "metadata": {},
   "outputs": [],
   "source": [
    "import sys\n",
    "sys.path.append(\"..\")\n",
    "import trackhhl.toy.simple_generator as toy\n",
    "import trackhhl.hamiltonians.simple_hamiltonian as hamiltonian\n",
    "import numpy as np"
   ]
  },
  {
   "cell_type": "markdown",
   "metadata": {},
   "source": [
    "# Detector\n",
    "\n",
    "We are going to define a simple detector geometry of 3 parallel infinitely large modules, placed along the $z$-axis"
   ]
  },
  {
   "cell_type": "code",
   "execution_count": 8,
   "metadata": {},
   "outputs": [
    {
     "data": {
      "text/plain": [
       "SimpleDetectorGeometry(module_id=[0, 1, 2], lx=[inf, inf, inf], ly=[inf, inf, inf], z=[1.0, 2.0, 3.0])"
      ]
     },
     "execution_count": 8,
     "metadata": {},
     "output_type": "execute_result"
    }
   ],
   "source": [
    "N_MODULES = 3\n",
    "LX = float(\"+inf\")\n",
    "LY = float(\"+inf\")\n",
    "Z_SPACING = 1.0\n",
    "\n",
    "detector = toy.SimpleDetectorGeometry(\n",
    "    module_id=list(range(N_MODULES)),\n",
    "    lx=[LX]*N_MODULES,\n",
    "    ly=[LY]*N_MODULES,\n",
    "    z=[i+Z_SPACING for i in range(N_MODULES)]\n",
    ")\n",
    "\n",
    "detector"
   ]
  },
  {
   "cell_type": "markdown",
   "metadata": {},
   "source": [
    "# Particle generator\n",
    "\n",
    "Now we define a simple particle generator that will fire particles flying in straight lines through the our detector."
   ]
  },
  {
   "cell_type": "code",
   "execution_count": 9,
   "metadata": {},
   "outputs": [],
   "source": [
    "generator = toy.SimpleGenerator(\n",
    "    detector_geometry=detector,\n",
    "    theta_max=np.pi/6\n",
    ")"
   ]
  },
  {
   "cell_type": "markdown",
   "metadata": {},
   "source": [
    "Let's generate a simple event"
   ]
  },
  {
   "cell_type": "code",
   "execution_count": 10,
   "metadata": {},
   "outputs": [
    {
     "data": {
      "text/plain": [
       "[Hit(hit_id=0, x=np.float64(0.4777329763105493), y=np.float64(0.16071254174072944), z=1.0, module_id=0, track_id=0),\n",
       " Hit(hit_id=3, x=np.float64(0.1772356363218551), y=np.float64(0.10869757743312537), z=1.0, module_id=0, track_id=1),\n",
       " Hit(hit_id=6, x=np.float64(0.47516643304038203), y=np.float64(-0.15505234704757345), z=1.0, module_id=0, track_id=2),\n",
       " Hit(hit_id=1, x=np.float64(0.9554659526210986), y=np.float64(0.3214250834814589), z=2.0, module_id=1, track_id=0),\n",
       " Hit(hit_id=4, x=np.float64(0.3544712726437102), y=np.float64(0.21739515486625074), z=2.0, module_id=1, track_id=1),\n",
       " Hit(hit_id=7, x=np.float64(0.9503328660807641), y=np.float64(-0.3101046940951469), z=2.0, module_id=1, track_id=2),\n",
       " Hit(hit_id=2, x=np.float64(1.433198928931648), y=np.float64(0.48213762522218834), z=3.0, module_id=2, track_id=0),\n",
       " Hit(hit_id=5, x=np.float64(0.5317069089655653), y=np.float64(0.32609273229937613), z=3.0, module_id=2, track_id=1),\n",
       " Hit(hit_id=8, x=np.float64(1.4254992991211461), y=np.float64(-0.4651570411427204), z=3.0, module_id=2, track_id=2)]"
      ]
     },
     "execution_count": 10,
     "metadata": {},
     "output_type": "execute_result"
    }
   ],
   "source": [
    "N_PARTICLES = 3\n",
    "event = generator.generate_event(N_PARTICLES)\n",
    "event.hits"
   ]
  },
  {
   "cell_type": "markdown",
   "metadata": {},
   "source": [
    "# Hamiltonian initialization\n",
    "\n",
    "Let's initialize the Hamiltonian."
   ]
  },
  {
   "cell_type": "code",
   "execution_count": 11,
   "metadata": {},
   "outputs": [],
   "source": [
    "ham = hamiltonian.SimpleHamiltonian(\n",
    "    epsilon=1e-7,\n",
    "    gamma=2.0,\n",
    "    delta=1.0\n",
    ")"
   ]
  },
  {
   "cell_type": "code",
   "execution_count": 12,
   "metadata": {},
   "outputs": [
    {
     "data": {
      "text/plain": [
       "(<18x18 sparse matrix of type '<class 'numpy.float64'>'\n",
       " \twith 24 stored elements in Compressed Sparse Column format>,\n",
       " array([1., 1., 1., 1., 1., 1., 1., 1., 1., 1., 1., 1., 1., 1., 1., 1., 1.,\n",
       "        1.]))"
      ]
     },
     "execution_count": 12,
     "metadata": {},
     "output_type": "execute_result"
    }
   ],
   "source": [
    "ham.construct_hamiltonian(event=event)"
   ]
  },
  {
   "cell_type": "markdown",
   "metadata": {},
   "source": [
    "# Classical solver\n",
    "\n",
    "Let's solve this event using a classical linear solver (the Conjugate Gradient Descent method)"
   ]
  },
  {
   "cell_type": "code",
   "execution_count": 13,
   "metadata": {},
   "outputs": [
    {
     "data": {
      "text/plain": [
       "array([0.5       , 0.33333333, 0.33333333, 0.33333333, 0.5       ,\n",
       "       0.33333333, 0.33333333, 0.33333333, 0.5       , 0.5       ,\n",
       "       0.33333333, 0.33333333, 0.33333333, 0.5       , 0.33333333,\n",
       "       0.33333333, 0.33333333, 0.5       ])"
      ]
     },
     "execution_count": 13,
     "metadata": {},
     "output_type": "execute_result"
    }
   ],
   "source": [
    "classical_solution = ham.solve_classicaly()\n",
    "classical_solution"
   ]
  },
  {
   "cell_type": "markdown",
   "metadata": {},
   "source": [
    "Let's apply a threshold $T = 0.45$"
   ]
  },
  {
   "cell_type": "code",
   "execution_count": 14,
   "metadata": {},
   "outputs": [],
   "source": [
    "T = .45"
   ]
  },
  {
   "cell_type": "code",
   "execution_count": 15,
   "metadata": {},
   "outputs": [
    {
     "data": {
      "text/plain": [
       "array([1, 0, 0, 0, 1, 0, 0, 0, 1, 1, 0, 0, 0, 1, 0, 0, 0, 1])"
      ]
     },
     "execution_count": 15,
     "metadata": {},
     "output_type": "execute_result"
    }
   ],
   "source": [
    "discretized_classical_solution = (classical_solution > T).astype(int)\n",
    "discretized_classical_solution"
   ]
  },
  {
   "cell_type": "markdown",
   "metadata": {},
   "source": [
    "# HHL solver\n",
    "\n",
    "Now let's solve the same event using the HHL linear solver provided by Qiskit."
   ]
  },
  {
   "cell_type": "code",
   "execution_count": 17,
   "metadata": {},
   "outputs": [
    {
     "ename": "TypeError",
     "evalue": "ufunc 'bitwise_xor' not supported for the input types, and the inputs could not be safely coerced to any supported types according to the casting rule ''safe''",
     "output_type": "error",
     "traceback": [
      "\u001b[0;31m---------------------------------------------------------------------------\u001b[0m",
      "\u001b[0;31mTypeError\u001b[0m                                 Traceback (most recent call last)",
      "Cell \u001b[0;32mIn[17], line 1\u001b[0m\n\u001b[0;32m----> 1\u001b[0m hhl_solution \u001b[38;5;241m=\u001b[39m \u001b[43mham\u001b[49m\u001b[38;5;241;43m.\u001b[39;49m\u001b[43msolve_hhl\u001b[49m\u001b[43m(\u001b[49m\u001b[43m)\u001b[49m\n\u001b[1;32m      2\u001b[0m hhl_solution\n",
      "File \u001b[0;32m~/Documents/GitHub/TrackHHL/notebooks/../trackhhl/hamiltonians/simple_hamiltonian.py:107\u001b[0m, in \u001b[0;36mSimpleHamiltonian.solve_hhl\u001b[0;34m(self, epsilon, circuit_only)\u001b[0m\n\u001b[1;32m    105\u001b[0m \u001b[38;5;66;03m# Get the final state vector\u001b[39;00m\n\u001b[1;32m    106\u001b[0m state_vector \u001b[38;5;241m=\u001b[39m Statevector(circuit)\n\u001b[0;32m--> 107\u001b[0m solution_norm \u001b[38;5;241m=\u001b[39m \u001b[43mhhl_solver\u001b[49m\u001b[38;5;241;43m.\u001b[39;49m\u001b[43m_calculate_norm\u001b[49m\u001b[43m(\u001b[49m\u001b[43mcircuit\u001b[49m\u001b[43m)\u001b[49m\n\u001b[1;32m    109\u001b[0m \u001b[38;5;66;03m# Pick the correct slice and renormalise it back\u001b[39;00m\n\u001b[1;32m    110\u001b[0m post_select_qubit \u001b[38;5;241m=\u001b[39m \u001b[38;5;28mint\u001b[39m(np\u001b[38;5;241m.\u001b[39mlog2(\u001b[38;5;28mlen\u001b[39m(state_vector\u001b[38;5;241m.\u001b[39mdata)))\u001b[38;5;241m-\u001b[39m\u001b[38;5;241m1\u001b[39m\n",
      "File \u001b[0;32m~/anaconda3/envs/Q_env/lib/python3.10/site-packages/linear_solvers/hhl.py:222\u001b[0m, in \u001b[0;36mHHL._calculate_norm\u001b[0;34m(self, qc)\u001b[0m\n\u001b[1;32m    220\u001b[0m \u001b[38;5;66;03m# Norm observable\u001b[39;00m\n\u001b[1;32m    221\u001b[0m observable \u001b[38;5;241m=\u001b[39m one_op \u001b[38;5;241m^\u001b[39m TensoredOp((nl \u001b[38;5;241m+\u001b[39m na) \u001b[38;5;241m*\u001b[39m [zero_op]) \u001b[38;5;241m^\u001b[39m (I \u001b[38;5;241m^\u001b[39m nb)\n\u001b[0;32m--> 222\u001b[0m norm_2 \u001b[38;5;241m=\u001b[39m \u001b[43m(\u001b[49m\u001b[38;5;241;43m~\u001b[39;49m\u001b[43mStateFn\u001b[49m\u001b[43m(\u001b[49m\u001b[43mobservable\u001b[49m\u001b[43m)\u001b[49m\u001b[43m \u001b[49m\u001b[38;5;241;43m@\u001b[39;49m\u001b[43m \u001b[49m\u001b[43mStateFn\u001b[49m\u001b[43m(\u001b[49m\u001b[43mqc\u001b[49m\u001b[43m)\u001b[49m\u001b[43m)\u001b[49m\u001b[38;5;241;43m.\u001b[39;49m\u001b[43meval\u001b[49m\u001b[43m(\u001b[49m\u001b[43m)\u001b[49m\n\u001b[1;32m    224\u001b[0m \u001b[38;5;28;01mreturn\u001b[39;00m np\u001b[38;5;241m.\u001b[39mreal(np\u001b[38;5;241m.\u001b[39msqrt(norm_2) \u001b[38;5;241m/\u001b[39m \u001b[38;5;28mself\u001b[39m\u001b[38;5;241m.\u001b[39mscaling)\n",
      "File \u001b[0;32m~/anaconda3/envs/Q_env/lib/python3.10/site-packages/qiskit/opflow/list_ops/composed_op.py:161\u001b[0m, in \u001b[0;36mComposedOp.eval\u001b[0;34m(self, front)\u001b[0m\n\u001b[1;32m    158\u001b[0m \u001b[38;5;28;01melif\u001b[39;00m front:\n\u001b[1;32m    159\u001b[0m     eval_list \u001b[38;5;241m=\u001b[39m [StateFn(front, is_measurement\u001b[38;5;241m=\u001b[39m\u001b[38;5;28;01mTrue\u001b[39;00m)] \u001b[38;5;241m+\u001b[39m eval_list  \u001b[38;5;66;03m# type: ignore\u001b[39;00m\n\u001b[0;32m--> 161\u001b[0m \u001b[38;5;28;01mreturn\u001b[39;00m \u001b[43mreduce\u001b[49m\u001b[43m(\u001b[49m\u001b[43mtree_recursive_eval\u001b[49m\u001b[43m,\u001b[49m\u001b[43m \u001b[49m\u001b[38;5;28;43mreversed\u001b[39;49m\u001b[43m(\u001b[49m\u001b[43meval_list\u001b[49m\u001b[43m)\u001b[49m\u001b[43m)\u001b[49m\n",
      "File \u001b[0;32m~/anaconda3/envs/Q_env/lib/python3.10/site-packages/qiskit/opflow/list_ops/composed_op.py:151\u001b[0m, in \u001b[0;36mComposedOp.eval.<locals>.tree_recursive_eval\u001b[0;34m(r, l_arg)\u001b[0m\n\u001b[1;32m    149\u001b[0m     \u001b[38;5;28;01mreturn\u001b[39;00m [tree_recursive_eval(r_op, l_arg) \u001b[38;5;28;01mfor\u001b[39;00m r_op \u001b[38;5;129;01min\u001b[39;00m r]\n\u001b[1;32m    150\u001b[0m \u001b[38;5;28;01melse\u001b[39;00m:\n\u001b[0;32m--> 151\u001b[0m     \u001b[38;5;28;01mreturn\u001b[39;00m \u001b[43ml_arg\u001b[49m\u001b[38;5;241;43m.\u001b[39;49m\u001b[43meval\u001b[49m\u001b[43m(\u001b[49m\u001b[43mr\u001b[49m\u001b[43m)\u001b[49m\n",
      "File \u001b[0;32m~/anaconda3/envs/Q_env/lib/python3.10/site-packages/qiskit/opflow/state_fns/operator_state_fn.py:256\u001b[0m, in \u001b[0;36mOperatorStateFn.eval\u001b[0;34m(self, front)\u001b[0m\n\u001b[1;32m    253\u001b[0m \u001b[38;5;28;01mif\u001b[39;00m \u001b[38;5;28misinstance\u001b[39m(front, CircuitStateFn):\n\u001b[1;32m    254\u001b[0m     front \u001b[38;5;241m=\u001b[39m front\u001b[38;5;241m.\u001b[39meval()\n\u001b[0;32m--> 256\u001b[0m \u001b[38;5;28;01mreturn\u001b[39;00m front\u001b[38;5;241m.\u001b[39madjoint()\u001b[38;5;241m.\u001b[39meval(cast(OperatorBase, \u001b[38;5;28;43mself\u001b[39;49m\u001b[38;5;241;43m.\u001b[39;49m\u001b[43mprimitive\u001b[49m\u001b[38;5;241;43m.\u001b[39;49m\u001b[43meval\u001b[49m\u001b[43m(\u001b[49m\u001b[43mfront\u001b[49m\u001b[43m)\u001b[49m)) \u001b[38;5;241m*\u001b[39m \u001b[38;5;28mself\u001b[39m\u001b[38;5;241m.\u001b[39mcoeff\n",
      "File \u001b[0;32m~/anaconda3/envs/Q_env/lib/python3.10/site-packages/qiskit/opflow/list_ops/tensored_op.py:90\u001b[0m, in \u001b[0;36mTensoredOp.eval\u001b[0;34m(self, front)\u001b[0m\n\u001b[1;32m     88\u001b[0m \u001b[38;5;28;01mif\u001b[39;00m \u001b[38;5;28mself\u001b[39m\u001b[38;5;241m.\u001b[39m_is_empty():\n\u001b[1;32m     89\u001b[0m     \u001b[38;5;28;01mreturn\u001b[39;00m \u001b[38;5;241m0.0\u001b[39m\n\u001b[0;32m---> 90\u001b[0m \u001b[38;5;28;01mreturn\u001b[39;00m cast(Union[OperatorBase, \u001b[38;5;28mcomplex\u001b[39m], \u001b[38;5;28;43mself\u001b[39;49m\u001b[38;5;241;43m.\u001b[39;49m\u001b[43mto_matrix_op\u001b[49m\u001b[43m(\u001b[49m\u001b[43m)\u001b[49m\u001b[38;5;241m.\u001b[39meval(front\u001b[38;5;241m=\u001b[39mfront))\n",
      "File \u001b[0;32m~/anaconda3/envs/Q_env/lib/python3.10/site-packages/qiskit/opflow/list_ops/list_op.py:547\u001b[0m, in \u001b[0;36mListOp.to_matrix_op\u001b[0;34m(self, massive)\u001b[0m\n\u001b[1;32m    537\u001b[0m \u001b[38;5;28;01mif\u001b[39;00m \u001b[38;5;28mself\u001b[39m\u001b[38;5;241m.\u001b[39m\u001b[38;5;18m__class__\u001b[39m \u001b[38;5;241m==\u001b[39m ListOp:\n\u001b[1;32m    538\u001b[0m     \u001b[38;5;28;01mreturn\u001b[39;00m cast(\n\u001b[1;32m    539\u001b[0m         ListOp,\n\u001b[1;32m    540\u001b[0m         ListOp(\n\u001b[1;32m    541\u001b[0m             [op\u001b[38;5;241m.\u001b[39mto_matrix_op(massive\u001b[38;5;241m=\u001b[39mmassive) \u001b[38;5;28;01mfor\u001b[39;00m op \u001b[38;5;129;01min\u001b[39;00m \u001b[38;5;28mself\u001b[39m\u001b[38;5;241m.\u001b[39moplist], \u001b[38;5;241m*\u001b[39m\u001b[38;5;241m*\u001b[39m\u001b[38;5;28mself\u001b[39m\u001b[38;5;241m.\u001b[39m_state()\n\u001b[1;32m    542\u001b[0m         )\u001b[38;5;241m.\u001b[39mreduce(),\n\u001b[1;32m    543\u001b[0m     )\n\u001b[1;32m    544\u001b[0m \u001b[38;5;28;01mreturn\u001b[39;00m cast(\n\u001b[1;32m    545\u001b[0m     ListOp,\n\u001b[1;32m    546\u001b[0m     \u001b[38;5;28mself\u001b[39m\u001b[38;5;241m.\u001b[39m\u001b[38;5;18m__class__\u001b[39m(\n\u001b[0;32m--> 547\u001b[0m         [op\u001b[38;5;241m.\u001b[39mto_matrix_op(massive\u001b[38;5;241m=\u001b[39mmassive) \u001b[38;5;28;01mfor\u001b[39;00m op \u001b[38;5;129;01min\u001b[39;00m \u001b[38;5;28mself\u001b[39m\u001b[38;5;241m.\u001b[39moplist],\n\u001b[1;32m    548\u001b[0m         coeff\u001b[38;5;241m=\u001b[39m\u001b[38;5;28mself\u001b[39m\u001b[38;5;241m.\u001b[39mcoeff,\n\u001b[1;32m    549\u001b[0m         abelian\u001b[38;5;241m=\u001b[39m\u001b[38;5;28mself\u001b[39m\u001b[38;5;241m.\u001b[39mabelian,\n\u001b[1;32m    550\u001b[0m     )\u001b[38;5;241m.\u001b[39mreduce(),\n\u001b[1;32m    551\u001b[0m )\n",
      "File \u001b[0;32m~/anaconda3/envs/Q_env/lib/python3.10/site-packages/qiskit/opflow/list_ops/list_op.py:547\u001b[0m, in \u001b[0;36m<listcomp>\u001b[0;34m(.0)\u001b[0m\n\u001b[1;32m    537\u001b[0m \u001b[38;5;28;01mif\u001b[39;00m \u001b[38;5;28mself\u001b[39m\u001b[38;5;241m.\u001b[39m\u001b[38;5;18m__class__\u001b[39m \u001b[38;5;241m==\u001b[39m ListOp:\n\u001b[1;32m    538\u001b[0m     \u001b[38;5;28;01mreturn\u001b[39;00m cast(\n\u001b[1;32m    539\u001b[0m         ListOp,\n\u001b[1;32m    540\u001b[0m         ListOp(\n\u001b[1;32m    541\u001b[0m             [op\u001b[38;5;241m.\u001b[39mto_matrix_op(massive\u001b[38;5;241m=\u001b[39mmassive) \u001b[38;5;28;01mfor\u001b[39;00m op \u001b[38;5;129;01min\u001b[39;00m \u001b[38;5;28mself\u001b[39m\u001b[38;5;241m.\u001b[39moplist], \u001b[38;5;241m*\u001b[39m\u001b[38;5;241m*\u001b[39m\u001b[38;5;28mself\u001b[39m\u001b[38;5;241m.\u001b[39m_state()\n\u001b[1;32m    542\u001b[0m         )\u001b[38;5;241m.\u001b[39mreduce(),\n\u001b[1;32m    543\u001b[0m     )\n\u001b[1;32m    544\u001b[0m \u001b[38;5;28;01mreturn\u001b[39;00m cast(\n\u001b[1;32m    545\u001b[0m     ListOp,\n\u001b[1;32m    546\u001b[0m     \u001b[38;5;28mself\u001b[39m\u001b[38;5;241m.\u001b[39m\u001b[38;5;18m__class__\u001b[39m(\n\u001b[0;32m--> 547\u001b[0m         [\u001b[43mop\u001b[49m\u001b[38;5;241;43m.\u001b[39;49m\u001b[43mto_matrix_op\u001b[49m\u001b[43m(\u001b[49m\u001b[43mmassive\u001b[49m\u001b[38;5;241;43m=\u001b[39;49m\u001b[43mmassive\u001b[49m\u001b[43m)\u001b[49m \u001b[38;5;28;01mfor\u001b[39;00m op \u001b[38;5;129;01min\u001b[39;00m \u001b[38;5;28mself\u001b[39m\u001b[38;5;241m.\u001b[39moplist],\n\u001b[1;32m    548\u001b[0m         coeff\u001b[38;5;241m=\u001b[39m\u001b[38;5;28mself\u001b[39m\u001b[38;5;241m.\u001b[39mcoeff,\n\u001b[1;32m    549\u001b[0m         abelian\u001b[38;5;241m=\u001b[39m\u001b[38;5;28mself\u001b[39m\u001b[38;5;241m.\u001b[39mabelian,\n\u001b[1;32m    550\u001b[0m     )\u001b[38;5;241m.\u001b[39mreduce(),\n\u001b[1;32m    551\u001b[0m )\n",
      "File \u001b[0;32m~/anaconda3/envs/Q_env/lib/python3.10/site-packages/qiskit/opflow/primitive_ops/primitive_op.py:271\u001b[0m, in \u001b[0;36mPrimitiveOp.to_matrix_op\u001b[0;34m(self, massive)\u001b[0m\n\u001b[1;32m    269\u001b[0m op \u001b[38;5;241m=\u001b[39m \u001b[38;5;28mself\u001b[39m\u001b[38;5;241m.\u001b[39mcopy()\n\u001b[1;32m    270\u001b[0m op\u001b[38;5;241m.\u001b[39m_coeff \u001b[38;5;241m=\u001b[39m \u001b[38;5;241m1\u001b[39m\n\u001b[0;32m--> 271\u001b[0m prim_mat \u001b[38;5;241m=\u001b[39m \u001b[43mop\u001b[49m\u001b[38;5;241;43m.\u001b[39;49m\u001b[43mto_matrix\u001b[49m\u001b[43m(\u001b[49m\u001b[43mmassive\u001b[49m\u001b[38;5;241;43m=\u001b[39;49m\u001b[43mmassive\u001b[49m\u001b[43m)\u001b[49m\n\u001b[1;32m    272\u001b[0m \u001b[38;5;28;01mfrom\u001b[39;00m \u001b[38;5;21;01m.\u001b[39;00m\u001b[38;5;21;01mmatrix_op\u001b[39;00m \u001b[38;5;28;01mimport\u001b[39;00m MatrixOp\n\u001b[1;32m    274\u001b[0m \u001b[38;5;28;01mreturn\u001b[39;00m MatrixOp(prim_mat, coeff\u001b[38;5;241m=\u001b[39mcoeff)\n",
      "File \u001b[0;32m~/anaconda3/envs/Q_env/lib/python3.10/site-packages/qiskit/opflow/primitive_ops/pauli_sum_op.py:271\u001b[0m, in \u001b[0;36mPauliSumOp.to_matrix\u001b[0;34m(self, massive)\u001b[0m\n\u001b[1;32m    269\u001b[0m \u001b[38;5;28;01mif\u001b[39;00m \u001b[38;5;28misinstance\u001b[39m(\u001b[38;5;28mself\u001b[39m\u001b[38;5;241m.\u001b[39mcoeff, ParameterExpression):\n\u001b[1;32m    270\u001b[0m     \u001b[38;5;28;01mreturn\u001b[39;00m (\u001b[38;5;28mself\u001b[39m\u001b[38;5;241m.\u001b[39mprimitive\u001b[38;5;241m.\u001b[39mto_matrix(sparse\u001b[38;5;241m=\u001b[39m\u001b[38;5;28;01mTrue\u001b[39;00m))\u001b[38;5;241m.\u001b[39mtoarray() \u001b[38;5;241m*\u001b[39m \u001b[38;5;28mself\u001b[39m\u001b[38;5;241m.\u001b[39mcoeff\n\u001b[0;32m--> 271\u001b[0m \u001b[38;5;28;01mreturn\u001b[39;00m (\u001b[38;5;28;43mself\u001b[39;49m\u001b[38;5;241;43m.\u001b[39;49m\u001b[43mprimitive\u001b[49m\u001b[38;5;241;43m.\u001b[39;49m\u001b[43mto_matrix\u001b[49m\u001b[43m(\u001b[49m\u001b[43msparse\u001b[49m\u001b[38;5;241;43m=\u001b[39;49m\u001b[38;5;28;43;01mTrue\u001b[39;49;00m\u001b[43m)\u001b[49m \u001b[38;5;241m*\u001b[39m \u001b[38;5;28mself\u001b[39m\u001b[38;5;241m.\u001b[39mcoeff)\u001b[38;5;241m.\u001b[39mtoarray()\n",
      "File \u001b[0;32m~/anaconda3/envs/Q_env/lib/python3.10/site-packages/qiskit/quantum_info/operators/symplectic/sparse_pauli_op.py:923\u001b[0m, in \u001b[0;36mSparsePauliOp.to_matrix\u001b[0;34m(self, sparse)\u001b[0m\n\u001b[1;32m    912\u001b[0m \u001b[38;5;250m\u001b[39m\u001b[38;5;124;03m\"\"\"Convert to a dense or sparse matrix.\u001b[39;00m\n\u001b[1;32m    913\u001b[0m \n\u001b[1;32m    914\u001b[0m \u001b[38;5;124;03mArgs:\u001b[39;00m\n\u001b[0;32m   (...)\u001b[0m\n\u001b[1;32m    920\u001b[0m \u001b[38;5;124;03m    csr_matrix: A sparse matrix in CSR format if `sparse=True`.\u001b[39;00m\n\u001b[1;32m    921\u001b[0m \u001b[38;5;124;03m\"\"\"\u001b[39;00m\n\u001b[1;32m    922\u001b[0m mat \u001b[38;5;241m=\u001b[39m \u001b[38;5;28;01mNone\u001b[39;00m\n\u001b[0;32m--> 923\u001b[0m \u001b[38;5;28;01mfor\u001b[39;00m i \u001b[38;5;129;01min\u001b[39;00m \u001b[38;5;28mself\u001b[39m\u001b[38;5;241m.\u001b[39mmatrix_iter(sparse\u001b[38;5;241m=\u001b[39msparse):\n\u001b[1;32m    924\u001b[0m     \u001b[38;5;28;01mif\u001b[39;00m mat \u001b[38;5;129;01mis\u001b[39;00m \u001b[38;5;28;01mNone\u001b[39;00m:\n\u001b[1;32m    925\u001b[0m         mat \u001b[38;5;241m=\u001b[39m i\n",
      "File \u001b[0;32m~/anaconda3/envs/Q_env/lib/python3.10/site-packages/qiskit/quantum_info/operators/custom_iterator.py:48\u001b[0m, in \u001b[0;36mCustomIterator.__next__\u001b[0;34m(self)\u001b[0m\n\u001b[1;32m     46\u001b[0m     \u001b[38;5;28;01mraise\u001b[39;00m \u001b[38;5;167;01mStopIteration\u001b[39;00m\n\u001b[1;32m     47\u001b[0m \u001b[38;5;28mself\u001b[39m\u001b[38;5;241m.\u001b[39m_iter \u001b[38;5;241m+\u001b[39m\u001b[38;5;241m=\u001b[39m \u001b[38;5;241m1\u001b[39m\n\u001b[0;32m---> 48\u001b[0m \u001b[38;5;28;01mreturn\u001b[39;00m \u001b[38;5;28;43mself\u001b[39;49m\u001b[43m[\u001b[49m\u001b[38;5;28;43mself\u001b[39;49m\u001b[38;5;241;43m.\u001b[39;49m\u001b[43m_iter\u001b[49m\u001b[43m \u001b[49m\u001b[38;5;241;43m-\u001b[39;49m\u001b[43m \u001b[49m\u001b[38;5;241;43m1\u001b[39;49m\u001b[43m]\u001b[49m\n",
      "File \u001b[0;32m~/anaconda3/envs/Q_env/lib/python3.10/site-packages/qiskit/quantum_info/operators/symplectic/sparse_pauli_op.py:986\u001b[0m, in \u001b[0;36mSparsePauliOp.matrix_iter.<locals>.MatrixIterator.__getitem__\u001b[0;34m(self, key)\u001b[0m\n\u001b[1;32m    984\u001b[0m \u001b[38;5;28;01mdef\u001b[39;00m \u001b[38;5;21m__getitem__\u001b[39m(\u001b[38;5;28mself\u001b[39m, key):\n\u001b[1;32m    985\u001b[0m     coeff \u001b[38;5;241m=\u001b[39m \u001b[38;5;28mself\u001b[39m\u001b[38;5;241m.\u001b[39mobj\u001b[38;5;241m.\u001b[39mcoeffs[key]\n\u001b[0;32m--> 986\u001b[0m     mat \u001b[38;5;241m=\u001b[39m \u001b[38;5;28;43mself\u001b[39;49m\u001b[38;5;241;43m.\u001b[39;49m\u001b[43mobj\u001b[49m\u001b[38;5;241;43m.\u001b[39;49m\u001b[43mpaulis\u001b[49m\u001b[43m[\u001b[49m\u001b[43mkey\u001b[49m\u001b[43m]\u001b[49m\u001b[38;5;241;43m.\u001b[39;49m\u001b[43mto_matrix\u001b[49m\u001b[43m(\u001b[49m\u001b[43msparse\u001b[49m\u001b[43m)\u001b[49m\n\u001b[1;32m    987\u001b[0m     \u001b[38;5;28;01mreturn\u001b[39;00m coeff \u001b[38;5;241m*\u001b[39m mat\n",
      "File \u001b[0;32m~/anaconda3/envs/Q_env/lib/python3.10/site-packages/qiskit/quantum_info/operators/symplectic/pauli.py:450\u001b[0m, in \u001b[0;36mPauli.to_matrix\u001b[0;34m(self, sparse)\u001b[0m\n\u001b[1;32m    440\u001b[0m \u001b[38;5;28;01mdef\u001b[39;00m \u001b[38;5;21mto_matrix\u001b[39m(\u001b[38;5;28mself\u001b[39m, sparse: \u001b[38;5;28mbool\u001b[39m \u001b[38;5;241m=\u001b[39m \u001b[38;5;28;01mFalse\u001b[39;00m) \u001b[38;5;241m-\u001b[39m\u001b[38;5;241m>\u001b[39m np\u001b[38;5;241m.\u001b[39mndarray:\n\u001b[1;32m    441\u001b[0m \u001b[38;5;250m    \u001b[39m\u001b[38;5;124mr\u001b[39m\u001b[38;5;124;03m\"\"\"Convert to a Numpy array or sparse CSR matrix.\u001b[39;00m\n\u001b[1;32m    442\u001b[0m \n\u001b[1;32m    443\u001b[0m \u001b[38;5;124;03m    Args:\u001b[39;00m\n\u001b[0;32m   (...)\u001b[0m\n\u001b[1;32m    448\u001b[0m \u001b[38;5;124;03m        array: The Pauli matrix.\u001b[39;00m\n\u001b[1;32m    449\u001b[0m \u001b[38;5;124;03m    \"\"\"\u001b[39;00m\n\u001b[0;32m--> 450\u001b[0m     \u001b[38;5;28;01mreturn\u001b[39;00m \u001b[38;5;28;43mself\u001b[39;49m\u001b[38;5;241;43m.\u001b[39;49m\u001b[43m_to_matrix\u001b[49m\u001b[43m(\u001b[49m\u001b[38;5;28;43mself\u001b[39;49m\u001b[38;5;241;43m.\u001b[39;49m\u001b[43mz\u001b[49m\u001b[43m,\u001b[49m\u001b[43m \u001b[49m\u001b[38;5;28;43mself\u001b[39;49m\u001b[38;5;241;43m.\u001b[39;49m\u001b[43mx\u001b[49m\u001b[43m,\u001b[49m\u001b[43m \u001b[49m\u001b[38;5;28;43mself\u001b[39;49m\u001b[38;5;241;43m.\u001b[39;49m\u001b[43m_phase\u001b[49m\u001b[43m[\u001b[49m\u001b[38;5;241;43m0\u001b[39;49m\u001b[43m]\u001b[49m\u001b[43m,\u001b[49m\u001b[43m \u001b[49m\u001b[43msparse\u001b[49m\u001b[38;5;241;43m=\u001b[39;49m\u001b[43msparse\u001b[49m\u001b[43m)\u001b[49m\n",
      "File \u001b[0;32m~/anaconda3/envs/Q_env/lib/python3.10/site-packages/qiskit/quantum_info/operators/symplectic/base_pauli.py:446\u001b[0m, in \u001b[0;36mBasePauli._to_matrix\u001b[0;34m(z, x, phase, group_phase, sparse)\u001b[0m\n\u001b[1;32m    443\u001b[0m z_indices \u001b[38;5;241m=\u001b[39m np\u001b[38;5;241m.\u001b[39masarray(z)\u001b[38;5;241m.\u001b[39mdot(twos_array)\n\u001b[1;32m    445\u001b[0m indptr \u001b[38;5;241m=\u001b[39m np\u001b[38;5;241m.\u001b[39marange(dim \u001b[38;5;241m+\u001b[39m \u001b[38;5;241m1\u001b[39m, dtype\u001b[38;5;241m=\u001b[39mnp\u001b[38;5;241m.\u001b[39muint)\n\u001b[0;32m--> 446\u001b[0m indices \u001b[38;5;241m=\u001b[39m \u001b[43mindptr\u001b[49m\u001b[43m \u001b[49m\u001b[38;5;241;43m^\u001b[39;49m\u001b[43m \u001b[49m\u001b[43mx_indices\u001b[49m\n\u001b[1;32m    447\u001b[0m \u001b[38;5;28;01mif\u001b[39;00m phase:\n\u001b[1;32m    448\u001b[0m     coeff \u001b[38;5;241m=\u001b[39m (\u001b[38;5;241m-\u001b[39m\u001b[38;5;241m1\u001b[39mj) \u001b[38;5;241m*\u001b[39m\u001b[38;5;241m*\u001b[39m phase\n",
      "\u001b[0;31mTypeError\u001b[0m: ufunc 'bitwise_xor' not supported for the input types, and the inputs could not be safely coerced to any supported types according to the casting rule ''safe''"
     ]
    }
   ],
   "source": [
    "hhl_solution = ham.solve_hhl()\n",
    "hhl_solution"
   ]
  },
  {
   "cell_type": "markdown",
   "metadata": {},
   "source": [
    "Let's discretize using the same threshold $T=0.45$"
   ]
  },
  {
   "cell_type": "code",
   "execution_count": null,
   "metadata": {},
   "outputs": [
    {
     "data": {
      "text/plain": [
       "array([1, 0, 0, 0, 1, 0, 0, 0, 1, 1, 0, 0, 0, 1, 0, 0, 0, 1])"
      ]
     },
     "execution_count": 46,
     "metadata": {},
     "output_type": "execute_result"
    }
   ],
   "source": [
    "discretized_hhl_solution = (hhl_solution > .45).astype(int)\n",
    "discretized_classical_solution"
   ]
  },
  {
   "cell_type": "markdown",
   "metadata": {},
   "source": [
    "# Comparison\n",
    "\n",
    "Let's compare the two solutions with the Monte Carlo truth"
   ]
  },
  {
   "cell_type": "code",
   "execution_count": null,
   "metadata": {},
   "outputs": [
    {
     "name": "stdout",
     "output_type": "stream",
     "text": [
      "Classical solution: \t [1 0 0 0 1 0 0 0 1 1 0 0 0 1 0 0 0 1]\n",
      "HHL solution: \t\t [1 0 0 0 1 0 0 0 1 1 0 0 0 1 0 0 0 1]\n",
      "\n",
      "MC truth: \t\t [1 0 0 0 1 0 0 0 1 1 0 0 0 1 0 0 0 1]\n"
     ]
    }
   ],
   "source": [
    "print(\"Classical solution: \\t\", discretized_classical_solution)\n",
    "print(\"HHL solution: \\t\\t\", discretized_classical_solution)\n",
    "print()\n",
    "MC_truth = [ 1 if seg.hit_from.track_id == seg.hit_to.track_id else 0 for seg in ham.segments]\n",
    "print(\"MC truth: \\t\\t\",np.array(MC_truth))"
   ]
  },
  {
   "cell_type": "code",
   "execution_count": null,
   "metadata": {},
   "outputs": [],
   "source": []
  }
 ],
 "metadata": {
  "kernelspec": {
   "display_name": "trackhhl-oT22-ukJ-py3.11",
   "language": "python",
   "name": "python3"
  },
  "language_info": {
   "codemirror_mode": {
    "name": "ipython",
    "version": 3
   },
   "file_extension": ".py",
   "mimetype": "text/x-python",
   "name": "python",
   "nbconvert_exporter": "python",
   "pygments_lexer": "ipython3",
   "version": "3.10.6"
  }
 },
 "nbformat": 4,
 "nbformat_minor": 2
}
